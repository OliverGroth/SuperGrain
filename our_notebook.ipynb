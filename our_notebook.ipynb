{
 "cells": [
  {
   "cell_type": "code",
   "execution_count": 1,
   "metadata": {},
   "outputs": [],
   "source": [
    "import warnings\n",
    "warnings.filterwarnings('ignore')  #general warning suppression\n",
    "\n",
    "import sys\n",
    "import numpy as np\n",
    "import json\n",
    "\n",
    "import cv2\n",
    "from skimage.io import imread\n",
    "from skimage.draw import polygon\n",
    "\n",
    "import tensorflow as tf\n",
    "import keras.backend as K\n",
    "import os\n",
    "os.environ['TF_CPP_MIN_LOG_LEVEL'] = '3'  #tensorflow deprecration warning suppression\n",
    "\n",
    "import matplotlib.pyplot as plt\n",
    "%matplotlib inline\n",
    "%config InlineBackend.figure_formats = {'png', 'retina'}"
   ]
  },
  {
   "cell_type": "code",
   "execution_count": 2,
   "metadata": {},
   "outputs": [],
   "source": [
    "#Required to import downloaded Mask_RCNN by below cells. Not needed if installed the repository by pip etc\n",
    "sys.path.append(\"TestNN/crop_seed_instance_segmentation/Mask_RCNN\") \n",
    "\n",
    "from mrcnn.visualize import display_images\n",
    "from mrcnn.config import Config\n",
    "from mrcnn import utils, visualize\n",
    "\n",
    "sys.path.insert(0, '/Users/buyn/Desktop/project_w_oliver/supergrain')\n",
    "# Import model.py as modellib\n",
    "import model as modellib\n",
    "from model import log\n"
   ]
  },
  {
   "cell_type": "code",
   "execution_count": 3,
   "metadata": {},
   "outputs": [],
   "source": [
    "class InferenceConfig(Config):\n",
    "    NAME = \"seed\"\n",
    "    GPU_COUNT = 1\n",
    "    IMAGES_PER_GPU = 1\n",
    "    NUM_CLASSES = 1 + 1  # background + 1 seeds\n",
    "    IMAGE_MIN_DIM = 512\n",
    "    IMAGE_MAX_DIM = 8192\n",
    "    DETECTION_MAX_INSTANCES = 1000\n",
    "    IMAGE_RESIZE_MODE = \"pad64\"\n",
    "    RPN_NMS_THRESHOLD = 0.4\n",
    "    DETECTION_MIN_CONFIDENCE = 0\n",
    "\n",
    "config = InferenceConfig()"
   ]
  },
  {
   "cell_type": "code",
   "execution_count": 4,
   "metadata": {},
   "outputs": [],
   "source": [
    "class CropSeedsDataset(utils.Dataset):\n",
    "\n",
    "    def load_seeds(self, dataset_dir, input_folder=\"image\", mask_folder=\"mask\"):\n",
    "\n",
    "        self.add_class(\"seed\", 1, \"seed\")\n",
    "        self.dataset_dir = dataset_dir\n",
    "        self.mask_folder = mask_folder\n",
    "        files = sorted([x for x in os.listdir(os.path.join(\n",
    "            dataset_dir, input_folder)) if x.endswith(\".png\")])\n",
    "\n",
    "        for file in files:\n",
    "            self.add_image(\n",
    "                \"seed\",\n",
    "                image_id=file,\n",
    "                path=os.path.join(dataset_dir, input_folder, file)\n",
    "            )\n",
    "\n",
    "    def load_mask(self, image_id):\n",
    "\n",
    "        cm = plt.get_cmap(\"jet\")\n",
    "        colors = []\n",
    "        for i in range(256):\n",
    "            colors.append(cm(i)[:3])\n",
    "        colors = (np.array(colors)*255).astype(np.int)\n",
    "        colors = np.unique(colors, axis=1)\n",
    "\n",
    "        info = self.image_info[image_id][\"id\"]\n",
    "        image = imread(os.path.join(\n",
    "            self.dataset_dir, self.mask_folder, info))\n",
    "        mask = []\n",
    "        for color in colors:\n",
    "            m = cv2.inRange(image, color, color)\n",
    "            # if there is a mask, average is not 0\n",
    "            if np.average(m.flatten()) != 0:\n",
    "                mask.append(m)\n",
    "        mask = np.stack(mask, axis=-1)\n",
    "        return mask, np.ones([mask.shape[-1]], dtype=np.int32)"
   ]
  },
  {
   "cell_type": "code",
   "execution_count": 5,
   "metadata": {},
   "outputs": [
    {
     "name": "stdout",
     "output_type": "stream",
     "text": [
      "WARNING:tensorflow:From /Users/buyn/Applications/miniconda3/envs/tensorflow_env/lib/python3.9/site-packages/tensorflow/python/util/dispatch.py:1260: calling crop_and_resize_v1 (from tensorflow.python.ops.image_ops_impl) with box_ind is deprecated and will be removed in a future version.\n",
      "Instructions for updating:\n",
      "box_ind is deprecated, use box_indices instead\n",
      "WARNING:tensorflow:From /Users/buyn/Applications/miniconda3/envs/tensorflow_env/lib/python3.9/site-packages/tensorflow/python/autograph/impl/api.py:459: calling map_fn (from tensorflow.python.ops.map_fn) with dtype is deprecated and will be removed in a future version.\n",
      "Instructions for updating:\n",
      "Use fn_output_signature instead\n",
      "WARNING:tensorflow:From /Users/buyn/Applications/miniconda3/envs/tensorflow_env/lib/python3.9/site-packages/tensorflow/python/util/dispatch.py:1260: to_float (from tensorflow.python.ops.math_ops) is deprecated and will be removed in a future version.\n",
      "Instructions for updating:\n",
      "Use `tf.cast` instead.\n"
     ]
    },
    {
     "ename": "FileNotFoundError",
     "evalue": "[Errno 2] Unable to open file (unable to open file: name = 'data/barley/model_weights/mask_rcnn_barleyseeds_0040.h5', errno = 2, error message = 'No such file or directory', flags = 0, o_flags = 0)",
     "output_type": "error",
     "traceback": [
      "\u001b[0;31m---------------------------------------------------------------------------\u001b[0m",
      "\u001b[0;31mFileNotFoundError\u001b[0m                         Traceback (most recent call last)",
      "Cell \u001b[0;32mIn[5], line 3\u001b[0m\n\u001b[1;32m      1\u001b[0m K\u001b[38;5;241m.\u001b[39mclear_session()\n\u001b[1;32m      2\u001b[0m model \u001b[38;5;241m=\u001b[39m modellib\u001b[38;5;241m.\u001b[39mMaskRCNN(mode\u001b[38;5;241m=\u001b[39m\u001b[38;5;124m\"\u001b[39m\u001b[38;5;124minference\u001b[39m\u001b[38;5;124m\"\u001b[39m, config\u001b[38;5;241m=\u001b[39mconfig, model_dir\u001b[38;5;241m=\u001b[39m\u001b[38;5;124m\"\u001b[39m\u001b[38;5;124m.\u001b[39m\u001b[38;5;124m\"\u001b[39m)\n\u001b[0;32m----> 3\u001b[0m \u001b[43mmodel\u001b[49m\u001b[38;5;241;43m.\u001b[39;49m\u001b[43mload_weights\u001b[49m\u001b[43m(\u001b[49m\n\u001b[1;32m      4\u001b[0m \u001b[43m    \u001b[49m\u001b[38;5;124;43m\"\u001b[39;49m\u001b[38;5;124;43mdata/barley/model_weights/mask_rcnn_barleyseeds_0040.h5\u001b[39;49m\u001b[38;5;124;43m\"\u001b[39;49m\u001b[43m,\u001b[49m\u001b[43m \u001b[49m\u001b[43mby_name\u001b[49m\u001b[38;5;241;43m=\u001b[39;49m\u001b[38;5;28;43;01mTrue\u001b[39;49;00m\u001b[43m)\u001b[49m\n\u001b[1;32m      5\u001b[0m \u001b[38;5;28mprint\u001b[39m(\u001b[38;5;124m\"\u001b[39m\u001b[38;5;124mmodel weights loaded\u001b[39m\u001b[38;5;124m\"\u001b[39m)\n",
      "File \u001b[0;32m~/Desktop/project_w_oliver/supergrain/model.py:2124\u001b[0m, in \u001b[0;36mMaskRCNN.load_weights\u001b[0;34m(self, filepath, by_name, exclude)\u001b[0m\n\u001b[1;32m   2122\u001b[0m \u001b[38;5;28;01mif\u001b[39;00m h5py \u001b[38;5;129;01mis\u001b[39;00m \u001b[38;5;28;01mNone\u001b[39;00m:\n\u001b[1;32m   2123\u001b[0m     \u001b[38;5;28;01mraise\u001b[39;00m \u001b[38;5;167;01mImportError\u001b[39;00m(\u001b[38;5;124m'\u001b[39m\u001b[38;5;124m`load_weights` requires h5py.\u001b[39m\u001b[38;5;124m'\u001b[39m)\n\u001b[0;32m-> 2124\u001b[0m f \u001b[38;5;241m=\u001b[39m \u001b[43mh5py\u001b[49m\u001b[38;5;241;43m.\u001b[39;49m\u001b[43mFile\u001b[49m\u001b[43m(\u001b[49m\u001b[43mfilepath\u001b[49m\u001b[43m,\u001b[49m\u001b[43m \u001b[49m\u001b[43mmode\u001b[49m\u001b[38;5;241;43m=\u001b[39;49m\u001b[38;5;124;43m'\u001b[39;49m\u001b[38;5;124;43mr\u001b[39;49m\u001b[38;5;124;43m'\u001b[39;49m\u001b[43m)\u001b[49m\n\u001b[1;32m   2125\u001b[0m \u001b[38;5;28;01mif\u001b[39;00m \u001b[38;5;124m'\u001b[39m\u001b[38;5;124mlayer_names\u001b[39m\u001b[38;5;124m'\u001b[39m \u001b[38;5;129;01mnot\u001b[39;00m \u001b[38;5;129;01min\u001b[39;00m f\u001b[38;5;241m.\u001b[39mattrs \u001b[38;5;129;01mand\u001b[39;00m \u001b[38;5;124m'\u001b[39m\u001b[38;5;124mmodel_weights\u001b[39m\u001b[38;5;124m'\u001b[39m \u001b[38;5;129;01min\u001b[39;00m f:\n\u001b[1;32m   2126\u001b[0m     f \u001b[38;5;241m=\u001b[39m f[\u001b[38;5;124m'\u001b[39m\u001b[38;5;124mmodel_weights\u001b[39m\u001b[38;5;124m'\u001b[39m]\n",
      "File \u001b[0;32m~/Applications/miniconda3/envs/tensorflow_env/lib/python3.9/site-packages/h5py/_hl/files.py:507\u001b[0m, in \u001b[0;36mFile.__init__\u001b[0;34m(self, name, mode, driver, libver, userblock_size, swmr, rdcc_nslots, rdcc_nbytes, rdcc_w0, track_order, fs_strategy, fs_persist, fs_threshold, fs_page_size, page_buf_size, min_meta_keep, min_raw_keep, locking, **kwds)\u001b[0m\n\u001b[1;32m    502\u001b[0m     fapl \u001b[38;5;241m=\u001b[39m make_fapl(driver, libver, rdcc_nslots, rdcc_nbytes, rdcc_w0,\n\u001b[1;32m    503\u001b[0m                      locking, page_buf_size, min_meta_keep, min_raw_keep, \u001b[38;5;241m*\u001b[39m\u001b[38;5;241m*\u001b[39mkwds)\n\u001b[1;32m    504\u001b[0m     fcpl \u001b[38;5;241m=\u001b[39m make_fcpl(track_order\u001b[38;5;241m=\u001b[39mtrack_order, fs_strategy\u001b[38;5;241m=\u001b[39mfs_strategy,\n\u001b[1;32m    505\u001b[0m                      fs_persist\u001b[38;5;241m=\u001b[39mfs_persist, fs_threshold\u001b[38;5;241m=\u001b[39mfs_threshold,\n\u001b[1;32m    506\u001b[0m                      fs_page_size\u001b[38;5;241m=\u001b[39mfs_page_size)\n\u001b[0;32m--> 507\u001b[0m     fid \u001b[38;5;241m=\u001b[39m \u001b[43mmake_fid\u001b[49m\u001b[43m(\u001b[49m\u001b[43mname\u001b[49m\u001b[43m,\u001b[49m\u001b[43m \u001b[49m\u001b[43mmode\u001b[49m\u001b[43m,\u001b[49m\u001b[43m \u001b[49m\u001b[43muserblock_size\u001b[49m\u001b[43m,\u001b[49m\u001b[43m \u001b[49m\u001b[43mfapl\u001b[49m\u001b[43m,\u001b[49m\u001b[43m \u001b[49m\u001b[43mfcpl\u001b[49m\u001b[43m,\u001b[49m\u001b[43m \u001b[49m\u001b[43mswmr\u001b[49m\u001b[38;5;241;43m=\u001b[39;49m\u001b[43mswmr\u001b[49m\u001b[43m)\u001b[49m\n\u001b[1;32m    509\u001b[0m \u001b[38;5;28;01mif\u001b[39;00m \u001b[38;5;28misinstance\u001b[39m(libver, \u001b[38;5;28mtuple\u001b[39m):\n\u001b[1;32m    510\u001b[0m     \u001b[38;5;28mself\u001b[39m\u001b[38;5;241m.\u001b[39m_libver \u001b[38;5;241m=\u001b[39m libver\n",
      "File \u001b[0;32m~/Applications/miniconda3/envs/tensorflow_env/lib/python3.9/site-packages/h5py/_hl/files.py:220\u001b[0m, in \u001b[0;36mmake_fid\u001b[0;34m(name, mode, userblock_size, fapl, fcpl, swmr)\u001b[0m\n\u001b[1;32m    218\u001b[0m     \u001b[38;5;28;01mif\u001b[39;00m swmr \u001b[38;5;129;01mand\u001b[39;00m swmr_support:\n\u001b[1;32m    219\u001b[0m         flags \u001b[38;5;241m|\u001b[39m\u001b[38;5;241m=\u001b[39m h5f\u001b[38;5;241m.\u001b[39mACC_SWMR_READ\n\u001b[0;32m--> 220\u001b[0m     fid \u001b[38;5;241m=\u001b[39m \u001b[43mh5f\u001b[49m\u001b[38;5;241;43m.\u001b[39;49m\u001b[43mopen\u001b[49m\u001b[43m(\u001b[49m\u001b[43mname\u001b[49m\u001b[43m,\u001b[49m\u001b[43m \u001b[49m\u001b[43mflags\u001b[49m\u001b[43m,\u001b[49m\u001b[43m \u001b[49m\u001b[43mfapl\u001b[49m\u001b[38;5;241;43m=\u001b[39;49m\u001b[43mfapl\u001b[49m\u001b[43m)\u001b[49m\n\u001b[1;32m    221\u001b[0m \u001b[38;5;28;01melif\u001b[39;00m mode \u001b[38;5;241m==\u001b[39m \u001b[38;5;124m'\u001b[39m\u001b[38;5;124mr+\u001b[39m\u001b[38;5;124m'\u001b[39m:\n\u001b[1;32m    222\u001b[0m     fid \u001b[38;5;241m=\u001b[39m h5f\u001b[38;5;241m.\u001b[39mopen(name, h5f\u001b[38;5;241m.\u001b[39mACC_RDWR, fapl\u001b[38;5;241m=\u001b[39mfapl)\n",
      "File \u001b[0;32mh5py/_objects.pyx:54\u001b[0m, in \u001b[0;36mh5py._objects.with_phil.wrapper\u001b[0;34m()\u001b[0m\n",
      "File \u001b[0;32mh5py/_objects.pyx:55\u001b[0m, in \u001b[0;36mh5py._objects.with_phil.wrapper\u001b[0;34m()\u001b[0m\n",
      "File \u001b[0;32mh5py/h5f.pyx:106\u001b[0m, in \u001b[0;36mh5py.h5f.open\u001b[0;34m()\u001b[0m\n",
      "\u001b[0;31mFileNotFoundError\u001b[0m: [Errno 2] Unable to open file (unable to open file: name = 'data/barley/model_weights/mask_rcnn_barleyseeds_0040.h5', errno = 2, error message = 'No such file or directory', flags = 0, o_flags = 0)"
     ]
    }
   ],
   "source": [
    "K.clear_session()\n",
    "model = modellib.MaskRCNN(mode=\"inference\", config=config, model_dir=\".\")\n",
    "model.load_weights(\n",
    "    \"data/barley/model_weights/mask_rcnn_barleyseeds_0040.h5\", by_name=True)\n",
    "print(\"model weights loaded\")"
   ]
  },
  {
   "cell_type": "code",
   "execution_count": null,
   "metadata": {},
   "outputs": [],
   "source": [
    "syn_dataset = CropSeedsDataset()\n",
    "syn_dataset.load_seeds(\"data/barley/synthetic_test/\")\n",
    "syn_dataset.prepare()\n",
    "\n",
    "print(\"Image Count: {}\".format(len(syn_dataset.image_ids)))\n",
    "print(\"Class Count: {}\".format(syn_dataset.num_classes))\n",
    "for i, info in enumerate(syn_dataset.class_info):\n",
    "    print(\"{:3}. {:50}\".format(i, info['name']))"
   ]
  },
  {
   "cell_type": "code",
   "execution_count": null,
   "metadata": {},
   "outputs": [],
   "source": [
    "#select two random images from the dataset\n",
    "image_ids = np.random.choice(syn_dataset.image_ids, 2)\n",
    "for image_id in image_ids:\n",
    "    image = syn_dataset.load_image(image_id)\n",
    "    mask, class_ids = syn_dataset.load_mask(image_id)\n",
    "    visualize.display_top_masks(image, mask, class_ids, syn_dataset.class_names, limit=1)"
   ]
  },
  {
   "cell_type": "code",
   "execution_count": null,
   "metadata": {},
   "outputs": [],
   "source": [
    "iou = 0.5\n",
    "image_ids = np.random.choice(syn_dataset.image_ids, 2)\n",
    "\n",
    "for image_id in image_ids:\n",
    "    image, image_meta, gt_class_id, gt_bbox, gt_mask = modellib.load_image_gt(syn_dataset, config, image_id)\n",
    "    r = model.detect([image])[0]\n",
    "    visualize.display_instances(image, r['rois'], r['masks'], r['class_ids'], [\"\",\"\"],figsize=(5,5))\n",
    "    \n",
    "    recall = utils.compute_recall(r[\"rois\"],gt_bbox,iou)[0]\n",
    "    AP, _,_,_ = utils.compute_ap(gt_bbox, gt_class_id, gt_mask,\n",
    "                                      r['rois'], r['class_ids'], r['scores'], r['masks'],iou_threshold = iou)\n",
    "    \n",
    "    print(\"image:\",image_id)\n",
    "    print(\"bbox iou:\", recall)\n",
    "    print(\"mask AP50:\", AP)"
   ]
  },
  {
   "cell_type": "code",
   "execution_count": null,
   "metadata": {},
   "outputs": [],
   "source": [
    "real_world_dir = \"./data/barley/realworld_test/image\"\n",
    "json_dir = \"./data/barley/realworld_test/metadata.json\""
   ]
  },
  {
   "cell_type": "code",
   "execution_count": null,
   "metadata": {},
   "outputs": [],
   "source": [
    "with open(json_dir) as f:\n",
    "    jsondata = json.load(f)\n",
    "files = [x[\"External ID\"] for x in jsondata]\n",
    "print(files)"
   ]
  },
  {
   "cell_type": "code",
   "execution_count": null,
   "metadata": {},
   "outputs": [],
   "source": [
    "def get_gt_mask(image,jsondata,n):\n",
    "    shape = (image.shape[0],image.shape[1],len(jsondata[n][\"Label\"][\"seed_mask\"]))\n",
    "    gt_mask = np.full(shape,False,dtype=bool)\n",
    "    for i in range(len(jsondata[n][\"Label\"][\"seed_mask\"])):\n",
    "        _x = []\n",
    "        _y = []\n",
    "        for coord in jsondata[n][\"Label\"][\"seed_mask\"][i][\"geometry\"]:\n",
    "            _x.append(coord[\"x\"])\n",
    "            _y.append(coord[\"y\"])\n",
    "        rr,cc = polygon(_y,_x)\n",
    "        _mask = np.zeros((image.shape[0],image.shape[1]),dtype=np.uint8)\n",
    "        _mask[rr,cc] = True\n",
    "        gt_mask[...,i] = _mask\n",
    "    gt_mask = np.array(gt_mask)\n",
    "    return gt_mask\n",
    "\n",
    "def get_gt_bbox(image,jsondata,n):\n",
    "    gt_bbox = []\n",
    "    for i in range(len(jsondata[n][\"Label\"][\"seed_bbox\"])):\n",
    "\n",
    "        #1. sanitize the coordinate so that it fits the image size range\n",
    "        #2. the order of the coordinate is ambiguous, so calculating to get the top left and bottom right\n",
    "        a = jsondata[n][\"Label\"][\"seed_bbox\"][i][\"geometry\"]\n",
    "\n",
    "        #1. check\n",
    "        for i,coord in enumerate(a):\n",
    "            if coord[\"x\"]<1: a[i][\"x\"]=1\n",
    "            if coord[\"x\"]>=image.shape[1]: a[i][\"x\"]=image.shape[1] -1\n",
    "            if coord[\"y\"]<1: a[i][\"y\"]=1   \n",
    "            if coord[\"y\"]>=image.shape[0]: a[i][\"y\"]=image.shape[0] -1\n",
    "\n",
    "        #2. get top left and bottom right\n",
    "        coords = [np.array([q[\"y\"],q[\"x\"]]) for q in a]\n",
    "        tlidx = np.argmin([np.linalg.norm(coord - np.array([0,0])) for coord in coords])\n",
    "        bridx = np.argmax([np.linalg.norm(coord - np.array([0,0])) for coord in coords])\n",
    "\n",
    "        _c = list(coords[tlidx]) + list(coords[bridx])\n",
    "        gt_bbox.append(_c)\n",
    "    gt_bbox = np.array(gt_bbox)\n",
    "    return gt_bbox"
   ]
  },
  {
   "cell_type": "code",
   "execution_count": null,
   "metadata": {},
   "outputs": [],
   "source": [
    "iou = 0.5\n",
    "selected_files = np.random.choice(files,2)\n",
    "print(\"will visualize these files: \", selected_files)\n",
    "\n",
    "for file in selected_files:\n",
    "    image = imread(os.path.join(real_world_dir,file))    \n",
    "    r = model.detect([image],verbose=0)[0]\n",
    "    \n",
    "    #get the position within the jsondata\n",
    "    for i,a in enumerate(jsondata):\n",
    "        if file == a[\"External ID\"]:\n",
    "            n = i\n",
    "    \n",
    "    gt_mask = get_gt_mask(image,jsondata,n)\n",
    "    gt_bbox = get_gt_bbox(image,jsondata,n)\n",
    "    gt_class_id = np.array([1] * len(gt_bbox))\n",
    "    \n",
    "    \n",
    "    recall = utils.compute_recall(r[\"rois\"],gt_bbox,iou)[0]\n",
    "    AP, _,_,_ = utils.compute_ap(gt_bbox, gt_class_id, gt_mask,\n",
    "                                      r['rois'], r['class_ids'], r['scores'], r['masks'],iou_threshold = iou)\n",
    "    \n",
    "    print(\"image:\",file)\n",
    "    print(\"bbox recall:\", recall)\n",
    "    print(\"mask AP50:\", AP)\n",
    "\n",
    "    visualize.display_instances(image, r['rois'], r['masks'], r['class_ids'], [\"\",\"\"],figsize=(5,5))"
   ]
  },
  {
   "cell_type": "code",
   "execution_count": null,
   "metadata": {},
   "outputs": [],
   "source": [
    "K.clear_session()\n",
    "model = modellib.MaskRCNN(mode=\"inference\", config=config, model_dir=\".\")\n",
    "model.load_weights(\n",
    "    \"data/other/model_weights/rice.h5\", by_name=True)\n",
    "print(\"model weights loaded\")"
   ]
  },
  {
   "cell_type": "code",
   "execution_count": null,
   "metadata": {},
   "outputs": [],
   "source": [
    "image = imread(\"data/other/images/rice.jpg\")"
   ]
  },
  {
   "cell_type": "code",
   "execution_count": null,
   "metadata": {},
   "outputs": [],
   "source": [
    "r = model.detect([image], verbose=1)[0]"
   ]
  },
  {
   "cell_type": "code",
   "execution_count": null,
   "metadata": {},
   "outputs": [],
   "source": [
    "visualize.display_instances(\n",
    "            image, r['rois'], r['masks'], r['class_ids'],\n",
    "            [\"\",\"\"], [\"\" for x in range(len(r['scores']))],\n",
    "            show_bbox=True, show_mask=True,\n",
    "            title=\"\")"
   ]
  },
  {
   "cell_type": "code",
   "execution_count": null,
   "metadata": {},
   "outputs": [],
   "source": [
    "K.clear_session()\n",
    "model = modellib.MaskRCNN(mode=\"inference\", config=config, model_dir=\".\")\n",
    "model.load_weights(\n",
    "    \"data/other/model_weights/wheat.h5\", by_name=True)\n",
    "print(\"model weights loaded\")\n",
    "print(\"Hej2\")"
   ]
  },
  {
   "cell_type": "code",
   "execution_count": null,
   "metadata": {},
   "outputs": [],
   "source": [
    "for file in [os.path.join(\"data/other/images\",x) for x in [\"wheat_AL.jpg\",\"wheat_CS.jpg\",\"wheat_N61.jpg\",\"wheat_Syn01.jpg\"]]:\n",
    "    image = imread(file)\n",
    "    r = model.detect([image], verbose=1)[0]\n",
    "    visualize.display_instances(\n",
    "            image, r['rois'], r['masks'], r['class_ids'],\n",
    "            [\"\",\"\"], [\"\" for x in range(len(r['scores']))],\n",
    "            show_bbox=True, show_mask=True,\n",
    "            title=file,figsize=(5,5))\n",
    "    plt.show()"
   ]
  }
 ],
 "metadata": {
  "kernelspec": {
   "display_name": "Python 3 (ipykernel)",
   "language": "python",
   "name": "python3"
  },
  "language_info": {
   "codemirror_mode": {
    "name": "ipython",
    "version": 3
   },
   "file_extension": ".py",
   "mimetype": "text/x-python",
   "name": "python",
   "nbconvert_exporter": "python",
   "pygments_lexer": "ipython3",
   "version": "3.9.18"
  }
 },
 "nbformat": 4,
 "nbformat_minor": 4
}
